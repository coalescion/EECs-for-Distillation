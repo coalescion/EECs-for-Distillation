{
 "cells": [
  {
   "cell_type": "markdown",
   "metadata": {},
   "source": [
    "# Imports"
   ]
  },
  {
   "cell_type": "code",
   "execution_count": 14,
   "metadata": {},
   "outputs": [],
   "source": [
    "import numpy as np\n",
    "import matplotlib.pyplot as plt\n",
    "from numpy import pi, cos, sin, exp\n",
    "from numpy.linalg import norm\n",
    "from matplotlib.colors import TwoSlopeNorm\n",
    "import itertools\n",
    "\n",
    "from qiskit_aer import AerSimulator\n",
    "from qiskit_aer.noise import NoiseModel \n",
    "from qiskit import QuantumCircuit, QuantumRegister, ClassicalRegister, transpile\n",
    "from qiskit.quantum_info import partial_trace, Statevector, state_fidelity, DensityMatrix, Operator, Pauli\n",
    "from qiskit_aer.noise import depolarizing_error, pauli_error, NoiseModel\n",
    "from qiskit_aer.library import save_stabilizer, set_stabilizer, save_density_matrix\n",
    "from qiskit.visualization import plot_histogram\n",
    "from qiskit.circuit import Clbit  \n",
    "from qiskit.circuit.library import Initialize, UnitaryGate\n",
    "\n",
    "\n"
   ]
  },
  {
   "cell_type": "code",
   "execution_count": 17,
   "metadata": {},
   "outputs": [
    {
     "name": "stdout",
     "output_type": "stream",
     "text": [
      "\n",
      "initial_state: pluszero_init\n",
      "<YY> = -1.0\n",
      "+1 is erroneous outcome? True\n",
      "\n",
      "initial_state: plusi_init\n",
      "<YZ> = 1.0\n",
      "-1 is erroneous outcome? True\n",
      "\n",
      "initial_state: izero_init\n",
      "<XY> = 1.0\n",
      "-1 is erroneous outcome? True\n",
      "\n",
      "initial_state: ii_init\n",
      "<XZ> = -1.0\n",
      "+1 is erroneous outcome? True\n"
     ]
    }
   ],
   "source": [
    "'''Test error-free outcomes for the joint measurements in two-qubit process tomography\n",
    "   to reveal mistake in Aron's thesis. P^YY_+0 and P^XY_i0 should have +1 as the non-trivial outcome, not -1.'''\n",
    "\n",
    "# gate definitions\n",
    "xmatrix = np.array([[0,1], [1,0]], dtype=complex)\n",
    "zmatrix = np.array([[1,0], [0,-1]], dtype=complex)\n",
    "imatrix = np.eye(2, dtype=complex)\n",
    "hmatrix = np.array([[1,1], [1,-1]], dtype=complex) / np.sqrt(2)\n",
    "ymatrix = np.array([[0, -1j],[1j, 0]], dtype=complex)\n",
    "smatrix = np.array([[1,0], [0,1j]], dtype=complex)\n",
    "tmatrix = np.array([[1,0], [0,np.exp(1j*pi/4)]], dtype=complex)\n",
    "sdagmatrix = np.array([[1,0], [0,-1j]], dtype=complex)\n",
    "\n",
    "cxmatrix = np.array([\n",
    "  [1,0,0,0],\n",
    "  [0,1,0,0],\n",
    "  [0,0,0,1],\n",
    "  [0,0,1,0]] , dtype=complex)\n",
    "\n",
    "# basis states\n",
    "zero = np.array([1,0], dtype=complex)\n",
    "one  = np.array([0,1], dtype=complex)\n",
    "plus = (zero + one)/np.sqrt(2)\n",
    "i_state = (zero + (1j * one))/np.sqrt(2)\n",
    "\n",
    "# initial states to test\n",
    "initial_states = {\"pluszero_init\": np.kron(plus, zero),\n",
    "                  \"plusi_init\":    np.kron(plus, i_state),\n",
    "                  \"izero_init\":    np.kron(i_state, zero),\n",
    "                  \"ii_init\":       np.kron(i_state, i_state)}\n",
    "\n",
    "\n",
    "for key in initial_states.keys():\n",
    "      print(f'\\ninitial_state: {key}')\n",
    "\n",
    "      # apply cx\n",
    "      psi_init = initial_states[key]\n",
    "      psi = cxmatrix @ psi_init\n",
    "\n",
    "      # measure in correct bases\n",
    "      if key == \"pluszero_init\":\n",
    "            YY = np.kron(ymatrix, ymatrix)\n",
    "            yy_exp = (psi.conj().T @ YY @ psi).real\n",
    "            print(\"<YY> =\", np.round(yy_exp, 5))  # expect -1.0\n",
    "            print(f'+1 is erroneous outcome? {np.allclose(yy_exp, -1.0)}')\n",
    "\n",
    "      elif key == \"plusi_init\":\n",
    "            YZ = np.kron(ymatrix, zmatrix)\n",
    "            yz_exp = (psi.conj().T @ YZ @ psi).real\n",
    "            print(\"<YZ> =\", np.round(yz_exp, 5))  # expect +1.0\n",
    "            print(f'-1 is erroneous outcome? {np.allclose(yz_exp, +1.0)}')\n",
    "\n",
    "\n",
    "      elif key == \"izero_init\":\n",
    "            XY = np.kron(xmatrix, ymatrix)\n",
    "            xy_exp = (psi.conj().T @ XY @ psi).real\n",
    "            print(\"<XY> =\", np.round(xy_exp, 5))  # expect +1.0\n",
    "            print(f'-1 is erroneous outcome? {np.allclose(xy_exp, +1.0)}')\n",
    "\n",
    "      elif key == \"ii_init\":\n",
    "            XZ = np.kron(xmatrix, zmatrix)\n",
    "            xz_exp = (psi.conj().T @ XZ @ psi).real\n",
    "            print(\"<XZ> =\", np.round(xz_exp))  # expect -1.0\n",
    "            print(f'+1 is erroneous outcome? {np.allclose(xz_exp, -1.0)}')\n"
   ]
  }
 ],
 "metadata": {
  "kernelspec": {
   "display_name": "Python 3",
   "language": "python",
   "name": "python3"
  },
  "language_info": {
   "codemirror_mode": {
    "name": "ipython",
    "version": 3
   },
   "file_extension": ".py",
   "mimetype": "text/x-python",
   "name": "python",
   "nbconvert_exporter": "python",
   "pygments_lexer": "ipython3",
   "version": "3.10.6"
  }
 },
 "nbformat": 4,
 "nbformat_minor": 2
}
